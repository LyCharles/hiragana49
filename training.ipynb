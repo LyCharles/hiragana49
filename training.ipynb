{
 "nbformat": 4,
 "nbformat_minor": 0,
 "metadata": {
  "colab": {
   "provenance": [],
   "machine_shape": "hm",
   "gpuType": "A100"
  },
  "kernelspec": {
   "name": "python3",
   "display_name": "Python 3"
  },
  "language_info": {
   "name": "python"
  },
  "accelerator": "GPU"
 },
 "cells": [
  {
   "metadata": {},
   "cell_type": "markdown",
   "source": ""
  },
  {
   "cell_type": "code",
   "source": [
    "# Install necessary libraries for training\n",
    "!pip install torch torchvision optuna"
   ],
   "metadata": {
    "colab": {
     "base_uri": "https://localhost:8080/"
    },
    "id": "YSqdy6Tu9JeW",
    "outputId": "9376fe0b-c821-4c90-fd3d-14d37e6a59eb"
   },
   "execution_count": 1,
   "outputs": [
    {
     "output_type": "stream",
     "name": "stdout",
     "text": [
      "Requirement already satisfied: torch in /usr/local/lib/python3.10/dist-packages (2.5.0+cu121)\n",
      "Requirement already satisfied: torchvision in /usr/local/lib/python3.10/dist-packages (0.20.0+cu121)\n",
      "Requirement already satisfied: filelock in /usr/local/lib/python3.10/dist-packages (from torch) (3.16.1)\n",
      "Requirement already satisfied: typing-extensions>=4.8.0 in /usr/local/lib/python3.10/dist-packages (from torch) (4.12.2)\n",
      "Requirement already satisfied: networkx in /usr/local/lib/python3.10/dist-packages (from torch) (3.4.2)\n",
      "Requirement already satisfied: jinja2 in /usr/local/lib/python3.10/dist-packages (from torch) (3.1.4)\n",
      "Requirement already satisfied: fsspec in /usr/local/lib/python3.10/dist-packages (from torch) (2024.10.0)\n",
      "Requirement already satisfied: sympy==1.13.1 in /usr/local/lib/python3.10/dist-packages (from torch) (1.13.1)\n",
      "Requirement already satisfied: mpmath<1.4,>=1.1.0 in /usr/local/lib/python3.10/dist-packages (from sympy==1.13.1->torch) (1.3.0)\n",
      "Requirement already satisfied: numpy in /usr/local/lib/python3.10/dist-packages (from torchvision) (1.26.4)\n",
      "Requirement already satisfied: pillow!=8.3.*,>=5.3.0 in /usr/local/lib/python3.10/dist-packages (from torchvision) (10.4.0)\n",
      "Requirement already satisfied: MarkupSafe>=2.0 in /usr/local/lib/python3.10/dist-packages (from jinja2->torch) (3.0.2)\n",
      "Requirement already satisfied: timm in /usr/local/lib/python3.10/dist-packages (1.0.11)\n",
      "Requirement already satisfied: torch in /usr/local/lib/python3.10/dist-packages (from timm) (2.5.0+cu121)\n",
      "Requirement already satisfied: torchvision in /usr/local/lib/python3.10/dist-packages (from timm) (0.20.0+cu121)\n",
      "Requirement already satisfied: pyyaml in /usr/local/lib/python3.10/dist-packages (from timm) (6.0.2)\n",
      "Requirement already satisfied: huggingface_hub in /usr/local/lib/python3.10/dist-packages (from timm) (0.24.7)\n",
      "Requirement already satisfied: safetensors in /usr/local/lib/python3.10/dist-packages (from timm) (0.4.5)\n",
      "Requirement already satisfied: filelock in /usr/local/lib/python3.10/dist-packages (from huggingface_hub->timm) (3.16.1)\n",
      "Requirement already satisfied: fsspec>=2023.5.0 in /usr/local/lib/python3.10/dist-packages (from huggingface_hub->timm) (2024.10.0)\n",
      "Requirement already satisfied: packaging>=20.9 in /usr/local/lib/python3.10/dist-packages (from huggingface_hub->timm) (24.1)\n",
      "Requirement already satisfied: requests in /usr/local/lib/python3.10/dist-packages (from huggingface_hub->timm) (2.32.3)\n",
      "Requirement already satisfied: tqdm>=4.42.1 in /usr/local/lib/python3.10/dist-packages (from huggingface_hub->timm) (4.66.6)\n",
      "Requirement already satisfied: typing-extensions>=3.7.4.3 in /usr/local/lib/python3.10/dist-packages (from huggingface_hub->timm) (4.12.2)\n",
      "Requirement already satisfied: networkx in /usr/local/lib/python3.10/dist-packages (from torch->timm) (3.4.2)\n",
      "Requirement already satisfied: jinja2 in /usr/local/lib/python3.10/dist-packages (from torch->timm) (3.1.4)\n",
      "Requirement already satisfied: sympy==1.13.1 in /usr/local/lib/python3.10/dist-packages (from torch->timm) (1.13.1)\n",
      "Requirement already satisfied: mpmath<1.4,>=1.1.0 in /usr/local/lib/python3.10/dist-packages (from sympy==1.13.1->torch->timm) (1.3.0)\n",
      "Requirement already satisfied: numpy in /usr/local/lib/python3.10/dist-packages (from torchvision->timm) (1.26.4)\n",
      "Requirement already satisfied: pillow!=8.3.*,>=5.3.0 in /usr/local/lib/python3.10/dist-packages (from torchvision->timm) (10.4.0)\n",
      "Requirement already satisfied: MarkupSafe>=2.0 in /usr/local/lib/python3.10/dist-packages (from jinja2->torch->timm) (3.0.2)\n",
      "Requirement already satisfied: charset-normalizer<4,>=2 in /usr/local/lib/python3.10/dist-packages (from requests->huggingface_hub->timm) (3.4.0)\n",
      "Requirement already satisfied: idna<4,>=2.5 in /usr/local/lib/python3.10/dist-packages (from requests->huggingface_hub->timm) (3.10)\n",
      "Requirement already satisfied: urllib3<3,>=1.21.1 in /usr/local/lib/python3.10/dist-packages (from requests->huggingface_hub->timm) (2.2.3)\n",
      "Requirement already satisfied: certifi>=2017.4.17 in /usr/local/lib/python3.10/dist-packages (from requests->huggingface_hub->timm) (2024.8.30)\n",
      "Collecting optuna\n",
      "  Downloading optuna-4.0.0-py3-none-any.whl.metadata (16 kB)\n",
      "Collecting alembic>=1.5.0 (from optuna)\n",
      "  Downloading alembic-1.14.0-py3-none-any.whl.metadata (7.4 kB)\n",
      "Collecting colorlog (from optuna)\n",
      "  Downloading colorlog-6.9.0-py3-none-any.whl.metadata (10 kB)\n",
      "Requirement already satisfied: numpy in /usr/local/lib/python3.10/dist-packages (from optuna) (1.26.4)\n",
      "Requirement already satisfied: packaging>=20.0 in /usr/local/lib/python3.10/dist-packages (from optuna) (24.1)\n",
      "Requirement already satisfied: sqlalchemy>=1.3.0 in /usr/local/lib/python3.10/dist-packages (from optuna) (2.0.36)\n",
      "Requirement already satisfied: tqdm in /usr/local/lib/python3.10/dist-packages (from optuna) (4.66.6)\n",
      "Requirement already satisfied: PyYAML in /usr/local/lib/python3.10/dist-packages (from optuna) (6.0.2)\n",
      "Collecting Mako (from alembic>=1.5.0->optuna)\n",
      "  Downloading Mako-1.3.6-py3-none-any.whl.metadata (2.9 kB)\n",
      "Requirement already satisfied: typing-extensions>=4 in /usr/local/lib/python3.10/dist-packages (from alembic>=1.5.0->optuna) (4.12.2)\n",
      "Requirement already satisfied: greenlet!=0.4.17 in /usr/local/lib/python3.10/dist-packages (from sqlalchemy>=1.3.0->optuna) (3.1.1)\n",
      "Requirement already satisfied: MarkupSafe>=0.9.2 in /usr/local/lib/python3.10/dist-packages (from Mako->alembic>=1.5.0->optuna) (3.0.2)\n",
      "Downloading optuna-4.0.0-py3-none-any.whl (362 kB)\n",
      "\u001B[2K   \u001B[90m━━━━━━━━━━━━━━━━━━━━━━━━━━━━━━━━━━━━━━━━\u001B[0m \u001B[32m362.8/362.8 kB\u001B[0m \u001B[31m8.7 MB/s\u001B[0m eta \u001B[36m0:00:00\u001B[0m\n",
      "\u001B[?25hDownloading alembic-1.14.0-py3-none-any.whl (233 kB)\n",
      "\u001B[2K   \u001B[90m━━━━━━━━━━━━━━━━━━━━━━━━━━━━━━━━━━━━━━━━\u001B[0m \u001B[32m233.5/233.5 kB\u001B[0m \u001B[31m22.6 MB/s\u001B[0m eta \u001B[36m0:00:00\u001B[0m\n",
      "\u001B[?25hDownloading colorlog-6.9.0-py3-none-any.whl (11 kB)\n",
      "Downloading Mako-1.3.6-py3-none-any.whl (78 kB)\n",
      "\u001B[2K   \u001B[90m━━━━━━━━━━━━━━━━━━━━━━━━━━━━━━━━━━━━━━━━\u001B[0m \u001B[32m78.6/78.6 kB\u001B[0m \u001B[31m7.8 MB/s\u001B[0m eta \u001B[36m0:00:00\u001B[0m\n",
      "\u001B[?25hInstalling collected packages: Mako, colorlog, alembic, optuna\n",
      "Successfully installed Mako-1.3.6 alembic-1.14.0 colorlog-6.9.0 optuna-4.0.0\n"
     ]
    }
   ]
  },
  {
   "metadata": {},
   "cell_type": "code",
   "outputs": [],
   "execution_count": null,
   "source": [
    "# Import necessary dependencies\n",
    "import torch\n",
    "import torch.nn as nn\n",
    "import torch.optim as optim\n",
    "import torch.nn.functional as F\n",
    "from torch.utils.data import DataLoader, Dataset\n",
    "from torchvision import transforms\n",
    "import numpy as np\n",
    "import optuna\n",
    "from PIL import Image\n",
    "import matplotlib.pyplot as plt"
   ]
  },
  {
   "cell_type": "markdown",
   "source": "Load the Dataset",
   "metadata": {
    "id": "PYPSLi994zEp"
   }
  },
  {
   "cell_type": "code",
   "source": [
    "# Define file paths for training and testing images and labels\n",
    "train_imgs_path = '/dataset/k49-train-imgs.npz'\n",
    "train_labels_path = '/dataset/k49-train-labels.npz'\n",
    "test_imgs_path = '/dataset/k49-test-imgs.npz'\n",
    "test_labels_path = '/dataset/k49-test-labels.npz'\n",
    "\n",
    "# Load data\n",
    "train_images = np.load(train_imgs_path)['arr_0']\n",
    "train_labels = np.load(train_labels_path)['arr_0']\n",
    "test_images = np.load(test_imgs_path)['arr_0']\n",
    "test_labels = np.load(test_labels_path)['arr_0']\n",
    "\n",
    "# Check the loaded data\n",
    "print(\"Shape of train images:\", train_images.shape)\n",
    "print(\"Shape of train labels:\", train_labels.shape)\n",
    "print(\"Shape of test images:\", test_images.shape)\n",
    "print(\"Shape of test labels:\", test_labels.shape)"
   ],
   "metadata": {
    "colab": {
     "base_uri": "https://localhost:8080/"
    },
    "id": "6VDYIFkC38_4",
    "outputId": "4938ab24-c824-4718-e779-1440730de8ac"
   },
   "execution_count": 3,
   "outputs": [
    {
     "output_type": "stream",
     "name": "stdout",
     "text": [
      "Shape of train images: (232365, 28, 28)\n",
      "Shape of train labels: (232365,)\n",
      "Shape of test images: (38547, 28, 28)\n",
      "Shape of test labels: (38547,)\n"
     ]
    }
   ]
  },
  {
   "metadata": {},
   "cell_type": "markdown",
   "source": "Display Some Images from the Dataset"
  },
  {
   "cell_type": "code",
   "source": [
    "# Show some images\n",
    "def show_images(images, labels, num_images=5):\n",
    "    plt.figure(figsize=(10, 2))\n",
    "    for i in range(num_images):\n",
    "        plt.subplot(1, num_images, i + 1)\n",
    "        plt.imshow(images[i], cmap='gray')\n",
    "        plt.title(f\"Label: {labels[i]}\")\n",
    "        plt.axis('off')\n",
    "    plt.show()\n",
    "\n",
    "show_images(train_images, train_labels, num_images=5)\n",
    "show_images(test_images, test_labels, num_images=5)"
   ],
   "metadata": {
    "colab": {
     "base_uri": "https://localhost:8080/",
     "height": 367
    },
    "id": "fBcZe4bD6iJa",
    "outputId": "5a211ea8-4fe7-4203-f742-ff0fb985cad9"
   },
   "execution_count": 4,
   "outputs": [
    {
     "output_type": "display_data",
     "data": {
      "text/plain": [
       "<Figure size 1000x200 with 5 Axes>"
      ],
      "image/png": "[encoded data removed]"
     },
     "metadata": {}
    },
    {
     "output_type": "display_data",
     "data": {
      "text/plain": [
       "<Figure size 1000x200 with 5 Axes>"
      ],
      "image/png": "[encoded data removed]"
     },
     "metadata": {}
    }
   ]
  },
  {
   "metadata": {},
   "cell_type": "markdown",
   "source": "Format the Dataset for Deep Learning and Apply Data Augmentation"
  },
  {
   "cell_type": "code",
   "source": [
    "class HiraganaDataset(Dataset):\n",
    "    def __init__(self, images, labels, transform=None):\n",
    "        # Initialize dataset with images, labels, and optional transformations\n",
    "        self.images = images\n",
    "        self.labels = labels\n",
    "        self.transform = transform\n",
    "\n",
    "    def __len__(self):\n",
    "        # Return the total number of images\n",
    "        return len(self.images)\n",
    "\n",
    "    def __getitem__(self, idx):\n",
    "        # Retrieve image and label at the specified index\n",
    "        image = self.images[idx]\n",
    "        image = Image.fromarray(image)  # Convert numpy array to PIL image\n",
    "        label = self.labels[idx]\n",
    "\n",
    "        # Apply transformations if any are specified\n",
    "        if self.transform:\n",
    "            image = self.transform(image)\n",
    "\n",
    "        return image, label\n",
    "\n",
    "# Define data transformations for training\n",
    "train_transforms = transforms.Compose([\n",
    "    transforms.RandomRotation(30),  # Randomly rotate images by up to 30 degrees\n",
    "    transforms.RandomAffine(degrees=10, translate=(0.1, 0.1)),  # Random affine transformations\n",
    "    transforms.ToTensor(),  # Convert images to tensors\n",
    "    transforms.Normalize([0.5], [0.5])  # Normalize with mean and std deviation of 0.5\n",
    "])\n",
    "\n",
    "# Define data transformations for validation\n",
    "val_transforms = transforms.Compose([\n",
    "    transforms.ToTensor(),  # Convert images to tensors\n",
    "    transforms.Normalize([0.5], [0.5])  # Normalize with mean and std deviation of 0.5\n",
    "])\n",
    "\n",
    "# Prepare datasets and dataloaders for training and validation\n",
    "train_dataset = HiraganaDataset(train_images, train_labels, transform=train_transforms)\n",
    "val_dataset = HiraganaDataset(test_images, test_labels, transform=val_transforms)\n",
    "train_loader = DataLoader(train_dataset, batch_size=64, shuffle=True, num_workers=8)\n",
    "val_loader = DataLoader(val_dataset, batch_size=64, shuffle=False, num_workers=8)\n",
    "\n",
    "def show_augmented_images(data_loader, num_images=4):\n",
    "    # Display a sample of augmented images from the dataloader\n",
    "    data_iter = iter(data_loader)\n",
    "    images, labels = next(data_iter)\n",
    "\n",
    "    plt.figure(figsize=(10, 2))\n",
    "    for i in range(num_images):\n",
    "        image = images[i].squeeze(0)  # Remove channel dimension\n",
    "        plt.subplot(1, num_images, i + 1)\n",
    "        plt.imshow(image, cmap='gray')\n",
    "        plt.title(f\"Label: {labels[i].item()}\")\n",
    "        plt.axis('off')\n",
    "    plt.show()\n",
    "\n",
    "show_augmented_images(train_loader, num_images=4)"
   ],
   "metadata": {
    "colab": {
     "base_uri": "https://localhost:8080/",
     "height": 213
    },
    "id": "44uDknpH80jt",
    "outputId": "dca2ef13-3e47-4e14-9203-c72f2943a52d"
   },
   "execution_count": 17,
   "outputs": [
    {
     "output_type": "display_data",
     "data": {
      "text/plain": [
       "<Figure size 1000x200 with 4 Axes>"
      ],
      "image/png": "[encoded data removed]"
     },
     "metadata": {}
    }
   ]
  },
  {
   "metadata": {},
   "cell_type": "markdown",
   "source": "Define the SpinalVGG Model to Use for Training"
  },
  {
   "cell_type": "code",
   "source": [
    "# Define two hyperparameters for the fully connected layers in the SpinalVGG model\n",
    "Half_width = 128  # Width of each half of the input for spinal layers\n",
    "layer_width = 128  # Output width (number of neurons) in each spinal fully connected layer\n",
    "\n",
    "# Define the model architecture to be used in training\n",
    "class SpinalVGG(nn.Module):\n",
    "    def two_conv_pool(self, in_channels, f1, f2):\n",
    "        # Define a layer block with two convolution layers, batch normalization, and max pooling\n",
    "        return nn.Sequential(\n",
    "            nn.Conv2d(in_channels, f1, kernel_size=3, padding=1),\n",
    "            nn.BatchNorm2d(f1),\n",
    "            nn.ReLU(inplace=True),\n",
    "            nn.Conv2d(f1, f2, kernel_size=3, padding=1),\n",
    "            nn.BatchNorm2d(f2),\n",
    "            nn.ReLU(inplace=True),\n",
    "            nn.MaxPool2d(kernel_size=2, stride=2)\n",
    "        )\n",
    "\n",
    "    def three_conv_pool(self, in_channels, f1, f2, f3):\n",
    "        # Define a layer block with three convolution layers, batch normalization, and max pooling\n",
    "        return nn.Sequential(\n",
    "            nn.Conv2d(in_channels, f1, kernel_size=3, padding=1),\n",
    "            nn.BatchNorm2d(f1),\n",
    "            nn.ReLU(inplace=True),\n",
    "            nn.Conv2d(f1, f2, kernel_size=3, padding=1),\n",
    "            nn.BatchNorm2d(f2),\n",
    "            nn.ReLU(inplace=True),\n",
    "            nn.Conv2d(f2, f3, kernel_size=3, padding=1),\n",
    "            nn.BatchNorm2d(f3),\n",
    "            nn.ReLU(inplace=True),\n",
    "            nn.MaxPool2d(kernel_size=2, stride=2)\n",
    "        )\n",
    "\n",
    "    def __init__(self, num_classes=49):\n",
    "        super(SpinalVGG, self).__init__()\n",
    "        # Define sequential blocks using the two- and three-layer blocks\n",
    "        self.l1 = self.two_conv_pool(1, 64, 64)\n",
    "        self.l2 = self.two_conv_pool(64, 128, 128)\n",
    "        self.l3 = self.three_conv_pool(128, 256, 256, 256)\n",
    "        self.l4 = self.three_conv_pool(256, 256, 256, 256)\n",
    "\n",
    "        # Define the Spinal fully connected layers with dropout and batch normalization\n",
    "        self.fc_spinal_layer1 = nn.Sequential(\n",
    "            nn.Dropout(p=0.5), nn.Linear(Half_width, layer_width),\n",
    "            nn.BatchNorm1d(layer_width), nn.ReLU(inplace=True))\n",
    "        self.fc_spinal_layer2 = nn.Sequential(\n",
    "            nn.Dropout(p=0.5), nn.Linear(Half_width+layer_width, layer_width),\n",
    "            nn.BatchNorm1d(layer_width), nn.ReLU(inplace=True))\n",
    "        self.fc_spinal_layer3 = nn.Sequential(\n",
    "            nn.Dropout(p=0.5), nn.Linear(Half_width+layer_width, layer_width),\n",
    "            nn.BatchNorm1d(layer_width), nn.ReLU(inplace=True))\n",
    "        self.fc_spinal_layer4 = nn.Sequential(\n",
    "            nn.Dropout(p=0.5), nn.Linear(Half_width+layer_width, layer_width),\n",
    "            nn.BatchNorm1d(layer_width), nn.ReLU(inplace=True))\n",
    "        \n",
    "        # Define the final output layer\n",
    "        self.fc_out = nn.Sequential(\n",
    "            nn.Dropout(p=0.5), nn.Linear(layer_width * 4, num_classes))\n",
    "\n",
    "    def forward(self, x):\n",
    "        # Forward pass through convolutional blocks\n",
    "        x = self.l1(x)\n",
    "        x = self.l2(x)\n",
    "        x = self.l3(x)\n",
    "        x = self.l4(x)\n",
    "        x = x.view(x.size(0), -1)  # Flatten for fully connected layers\n",
    "\n",
    "        # Forward pass through Spinal fully connected layers\n",
    "        x1 = self.fc_spinal_layer1(x[:, 0:Half_width])\n",
    "        x2 = self.fc_spinal_layer2(torch.cat([x[:, Half_width:2*Half_width], x1], dim=1))\n",
    "        x3 = self.fc_spinal_layer3(torch.cat([x[:, 0:Half_width], x2], dim=1))\n",
    "        x4 = self.fc_spinal_layer4(torch.cat([x[:, Half_width:2*Half_width], x3], dim=1))\n",
    "\n",
    "        # Concatenate outputs and pass through final layer\n",
    "        x = torch.cat([x1, x2, x3, x4], dim=1)\n",
    "        x = self.fc_out(x)\n",
    "        return F.log_softmax(x, dim=1)  # Apply log softmax to output\n",
    "    "
   ],
   "metadata": {
    "id": "bxL6oxtH9dqy"
   },
   "execution_count": 6,
   "outputs": []
  },
  {
   "metadata": {},
   "cell_type": "markdown",
   "source": "Conduct a Brief Tuning with Optuna to Find the Optimal Hyperparameters"
  },
  {
   "cell_type": "code",
   "source": [
    "def objective(trial):\n",
    "    device = torch.device(\"cuda\")\n",
    "    model = SpinalVGG(num_classes=49).to(device)\n",
    "\n",
    "    # Hyperparameter optimization\n",
    "    optimizer_name = trial.suggest_categorical(\"optimizer\", [\"Adam\", \"AdamW\", \"SGD\"])  # Suggest an optimizer type\n",
    "    lr = trial.suggest_float(\"lr\", 1e-5, 1e-3, log=True)  # Suggest a learning rate\n",
    "    optimizer = getattr(optim, optimizer_name)(model.parameters(), lr=lr)\n",
    "    criterion = nn.CrossEntropyLoss()  # Loss function for classification\n",
    "    scheduler = optim.lr_scheduler.ReduceLROnPlateau(optimizer, mode='max', factor=0.1, patience=3)\n",
    "\n",
    "    num_epochs = 25  # Use fewer epochs for initial tuning\n",
    "\n",
    "    best_acc = 0.0\n",
    "    for epoch in range(num_epochs):\n",
    "        model.train()\n",
    "        for inputs, labels in train_loader:\n",
    "            inputs, labels = inputs.to(device), labels.to(device)\n",
    "            optimizer.zero_grad()\n",
    "            outputs = model(inputs)\n",
    "            loss = criterion(outputs, labels)\n",
    "            loss.backward()\n",
    "            optimizer.step()\n",
    "\n",
    "        # Calculate accuracy on the validation set\n",
    "        model.eval()\n",
    "        correct = 0\n",
    "        total = 0\n",
    "        with torch.no_grad():\n",
    "            for inputs, labels in val_loader:\n",
    "                inputs, labels = inputs.to(device), labels.to(device)\n",
    "                outputs = model(inputs)\n",
    "                _, predicted = torch.max(outputs, 1)\n",
    "                correct += (predicted == labels).sum().item()\n",
    "                total += labels.size(0)\n",
    "\n",
    "        epoch_acc = correct / total\n",
    "        scheduler.step(epoch_acc)  # Update learning rate scheduler\n",
    "\n",
    "        # Update the best accuracy if the current epoch accuracy is higher\n",
    "        if epoch_acc > best_acc:\n",
    "            best_acc = epoch_acc\n",
    "\n",
    "    return best_acc  # Return accuracy for Optuna to maximize\n",
    "\n",
    "# Use Optuna to find the best hyperparameters\n",
    "study = optuna.create_study(direction=\"maximize\")\n",
    "study.optimize(objective, n_trials=10)\n",
    "\n",
    "# Output the best parameters\n",
    "best_lr = study.best_trial.params[\"lr\"]\n",
    "best_optimizer_name = study.best_trial.params[\"optimizer\"]\n",
    "print(\"Best params:\", study.best_trial.params)\n"
   ],
   "metadata": {
    "colab": {
     "base_uri": "https://localhost:8080/"
    },
    "id": "xSSHNtYpCBej",
    "outputId": "0b3a1cd3-a108-451e-b1ac-0a9421ac9c1c"
   },
   "execution_count": 7,
   "outputs": [
    {
     "output_type": "stream",
     "name": "stderr",
     "text": [
      "[I 2024-11-08 17:08:20,827] A new study created in memory with name: no-name-24a425e4-d1eb-48ae-9c50-d05c9d1a5a46\n",
      "[I 2024-11-08 17:16:27,186] Trial 0 finished with value: 0.9205645056684048 and parameters: {'optimizer': 'AdamW', 'lr': 5.4847794731137024e-05}. Best is trial 0 with value: 0.9205645056684048.\n",
      "[I 2024-11-08 17:24:37,093] Trial 1 finished with value: 0.24237943290009598 and parameters: {'optimizer': 'SGD', 'lr': 0.000883054502994028}. Best is trial 0 with value: 0.9205645056684048.\n",
      "[I 2024-11-08 17:32:39,715] Trial 2 finished with value: 0.8992917736788855 and parameters: {'optimizer': 'AdamW', 'lr': 4.1846757228227996e-05}. Best is trial 0 with value: 0.9205645056684048.\n",
      "[I 2024-11-08 17:40:47,050] Trial 3 finished with value: 0.6540846239655486 and parameters: {'optimizer': 'AdamW', 'lr': 1.2036881687783096e-05}. Best is trial 0 with value: 0.9205645056684048.\n",
      "[I 2024-11-08 17:48:58,685] Trial 4 finished with value: 0.8702622772200171 and parameters: {'optimizer': 'AdamW', 'lr': 3.340589700041709e-05}. Best is trial 0 with value: 0.9205645056684048.\n",
      "[I 2024-11-08 17:57:01,589] Trial 5 finished with value: 0.9609567540924067 and parameters: {'optimizer': 'Adam', 'lr': 0.0008054639911113817}. Best is trial 5 with value: 0.9609567540924067.\n",
      "[I 2024-11-08 18:05:15,271] Trial 6 finished with value: 0.24406568604560666 and parameters: {'optimizer': 'SGD', 'lr': 0.0007169767732494532}. Best is trial 5 with value: 0.9609567540924067.\n",
      "[I 2024-11-08 18:13:23,840] Trial 7 finished with value: 0.9489973279373233 and parameters: {'optimizer': 'AdamW', 'lr': 0.00011134388683247132}. Best is trial 5 with value: 0.9609567540924067.\n",
      "[I 2024-11-08 18:21:41,019] Trial 8 finished with value: 0.9462733805484214 and parameters: {'optimizer': 'AdamW', 'lr': 0.00011958866880354891}. Best is trial 5 with value: 0.9609567540924067.\n",
      "[I 2024-11-08 18:29:58,825] Trial 9 finished with value: 0.7898928580693698 and parameters: {'optimizer': 'AdamW', 'lr': 2.0514547145097134e-05}. Best is trial 5 with value: 0.9609567540924067.\n"
     ]
    },
    {
     "output_type": "stream",
     "name": "stdout",
     "text": [
      "Best params: {'optimizer': 'Adam', 'lr': 0.0008054639911113817}\n"
     ]
    }
   ]
  },
  {
   "metadata": {},
   "cell_type": "markdown",
   "source": "Starting Formal Training with the Best Hyperparameters Obtained from Optuna"
  },
  {
   "cell_type": "code",
   "source": [
    "def train_with_best_params(best_lr, best_optimizer_name, num_epochs=200, patience=10):\n",
    "    device = torch.device(\"cuda\")\n",
    "    model = SpinalVGG(num_classes=49).to(device)\n",
    "    criterion = nn.CrossEntropyLoss()  # Loss function for classification\n",
    "    optimizer = getattr(optim, best_optimizer_name)(model.parameters(), lr=best_lr)  # Initialize optimizer with best parameters\n",
    "    scheduler = optim.lr_scheduler.ReduceLROnPlateau(optimizer, mode='max', factor=0.1, patience=3)\n",
    "\n",
    "    best_acc = 0.0  # Track the best accuracy\n",
    "    epochs_no_improve = 0  # Track epochs without improvement for early stopping\n",
    "    best_model_wts = model.state_dict()  # Store the best model weights\n",
    "\n",
    "    # Initialize lists to record training loss and validation accuracy for each epoch\n",
    "    train_losses = []\n",
    "    val_accuracies = []\n",
    "\n",
    "    for epoch in range(num_epochs):\n",
    "        model.train()\n",
    "        running_loss = 0.0  # Accumulate loss for the epoch\n",
    "        for inputs, labels in train_loader:\n",
    "            inputs, labels = inputs.to(device), labels.to(device)\n",
    "            optimizer.zero_grad()\n",
    "            outputs = model(inputs)\n",
    "            loss = criterion(outputs, labels)\n",
    "            loss.backward()\n",
    "            optimizer.step()\n",
    "            running_loss += loss.item() * inputs.size(0)  # Accumulate batch loss\n",
    "\n",
    "        epoch_loss = running_loss / len(train_loader.dataset)  # Average loss for the epoch\n",
    "        train_losses.append(epoch_loss)\n",
    "\n",
    "        # Validation phase\n",
    "        model.eval()\n",
    "        correct = 0\n",
    "        total = 0\n",
    "        with torch.no_grad():\n",
    "            for inputs, labels in val_loader:\n",
    "                inputs, labels = inputs.to(device), labels.to(device)\n",
    "                outputs = model(inputs)\n",
    "                _, predicted = torch.max(outputs, 1)\n",
    "                correct += (predicted == labels).sum().item()\n",
    "                total += labels.size(0)\n",
    "\n",
    "        epoch_acc = correct / total  # Calculate validation accuracy\n",
    "        val_accuracies.append(epoch_acc)\n",
    "        print(f'Epoch {epoch+1}/{num_epochs}, Loss: {epoch_loss:.4f}, Val Accuracy: {epoch_acc:.4f}')\n",
    "\n",
    "        # Get current learning rate\n",
    "        current_lr = scheduler.get_last_lr()[0]\n",
    "\n",
    "        # Step the learning rate scheduler based on validation accuracy\n",
    "        scheduler.step(epoch_acc)\n",
    "\n",
    "        # Check if learning rate has decayed\n",
    "        new_lr = scheduler.get_last_lr()[0]\n",
    "        if new_lr < current_lr:\n",
    "            print(f\"Learning rate decayed to: {new_lr}\")\n",
    "\n",
    "        # Early stopping: check if validation accuracy improved\n",
    "        if epoch_acc > best_acc:\n",
    "            best_acc = epoch_acc\n",
    "            best_model_wts = model.state_dict()  # Update best weights\n",
    "            epochs_no_improve = 0\n",
    "        else:\n",
    "            epochs_no_improve += 1\n",
    "\n",
    "        if epochs_no_improve == patience:\n",
    "            print(\"Early stopping triggered\")\n",
    "            break\n",
    "\n",
    "    # Load the best model weights before returning the model\n",
    "    model.load_state_dict(best_model_wts)\n",
    "\n",
    "    # Save the best model to disk\n",
    "    torch.save(model.state_dict(), \"best_spinalvgg_model.pth\")\n",
    "    print(\"Model saved as best_spinalvgg_model.pth\")\n",
    "\n",
    "    return model, train_losses, val_accuracies  # Return the trained model, training losses, and validation accuracies\n",
    "\n",
    "# Train with the best parameters obtained from hyperparameter optimization\n",
    "best_model, train_losses, val_accuracies = train_with_best_params(best_lr, best_optimizer_name)\n"
   ],
   "metadata": {
    "colab": {
     "base_uri": "https://localhost:8080/"
    },
    "id": "jg1kZ5qR9fzo",
    "outputId": "9ed9d4c9-014c-409a-dacf-185f3d26751b"
   },
   "execution_count": 18,
   "outputs": [
    {
     "output_type": "stream",
     "name": "stdout",
     "text": [
      "Epoch 1/200, Loss: 0.9834, Val Accuracy: 0.8697\n",
      "Epoch 2/200, Loss: 0.3701, Val Accuracy: 0.9182\n",
      "Epoch 3/200, Loss: 0.2882, Val Accuracy: 0.9287\n",
      "Epoch 4/200, Loss: 0.2430, Val Accuracy: 0.9419\n",
      "Epoch 5/200, Loss: 0.2147, Val Accuracy: 0.9473\n",
      "Epoch 6/200, Loss: 0.1951, Val Accuracy: 0.9495\n",
      "Epoch 7/200, Loss: 0.1780, Val Accuracy: 0.9559\n",
      "Epoch 8/200, Loss: 0.1665, Val Accuracy: 0.9585\n",
      "Epoch 9/200, Loss: 0.1536, Val Accuracy: 0.9590\n",
      "Epoch 10/200, Loss: 0.1469, Val Accuracy: 0.9598\n",
      "Epoch 11/200, Loss: 0.1373, Val Accuracy: 0.9632\n",
      "Epoch 12/200, Loss: 0.1330, Val Accuracy: 0.9658\n",
      "Epoch 13/200, Loss: 0.1251, Val Accuracy: 0.9641\n",
      "Epoch 14/200, Loss: 0.1210, Val Accuracy: 0.9655\n",
      "Epoch 15/200, Loss: 0.1158, Val Accuracy: 0.9669\n",
      "Epoch 16/200, Loss: 0.1117, Val Accuracy: 0.9666\n",
      "Epoch 17/200, Loss: 0.1088, Val Accuracy: 0.9676\n",
      "Epoch 18/200, Loss: 0.1041, Val Accuracy: 0.9688\n",
      "Epoch 19/200, Loss: 0.1016, Val Accuracy: 0.9678\n",
      "Epoch 20/200, Loss: 0.0999, Val Accuracy: 0.9711\n",
      "Epoch 21/200, Loss: 0.0975, Val Accuracy: 0.9699\n",
      "Epoch 22/200, Loss: 0.0932, Val Accuracy: 0.9699\n",
      "Epoch 23/200, Loss: 0.0921, Val Accuracy: 0.9697\n",
      "Epoch 24/200, Loss: 0.0885, Val Accuracy: 0.9709\n",
      "Learning rate decayed to: 8.054639911113818e-05\n",
      "Epoch 25/200, Loss: 0.0697, Val Accuracy: 0.9750\n",
      "Epoch 26/200, Loss: 0.0635, Val Accuracy: 0.9754\n",
      "Epoch 27/200, Loss: 0.0608, Val Accuracy: 0.9755\n",
      "Epoch 28/200, Loss: 0.0576, Val Accuracy: 0.9758\n",
      "Epoch 29/200, Loss: 0.0570, Val Accuracy: 0.9765\n",
      "Epoch 30/200, Loss: 0.0551, Val Accuracy: 0.9760\n",
      "Epoch 31/200, Loss: 0.0549, Val Accuracy: 0.9763\n",
      "Epoch 32/200, Loss: 0.0547, Val Accuracy: 0.9758\n",
      "Epoch 33/200, Loss: 0.0524, Val Accuracy: 0.9766\n",
      "Epoch 34/200, Loss: 0.0522, Val Accuracy: 0.9765\n",
      "Epoch 35/200, Loss: 0.0504, Val Accuracy: 0.9768\n",
      "Epoch 36/200, Loss: 0.0490, Val Accuracy: 0.9766\n",
      "Epoch 37/200, Loss: 0.0491, Val Accuracy: 0.9763\n",
      "Epoch 38/200, Loss: 0.0485, Val Accuracy: 0.9765\n",
      "Epoch 39/200, Loss: 0.0481, Val Accuracy: 0.9767\n",
      "Learning rate decayed to: 8.054639911113818e-06\n",
      "Epoch 40/200, Loss: 0.0458, Val Accuracy: 0.9767\n",
      "Epoch 41/200, Loss: 0.0462, Val Accuracy: 0.9768\n",
      "Epoch 42/200, Loss: 0.0458, Val Accuracy: 0.9769\n",
      "Epoch 43/200, Loss: 0.0452, Val Accuracy: 0.9770\n",
      "Epoch 44/200, Loss: 0.0452, Val Accuracy: 0.9767\n",
      "Epoch 45/200, Loss: 0.0463, Val Accuracy: 0.9766\n",
      "Epoch 46/200, Loss: 0.0460, Val Accuracy: 0.9764\n",
      "Epoch 47/200, Loss: 0.0455, Val Accuracy: 0.9767\n",
      "Learning rate decayed to: 8.054639911113819e-07\n",
      "Epoch 48/200, Loss: 0.0447, Val Accuracy: 0.9769\n",
      "Epoch 49/200, Loss: 0.0449, Val Accuracy: 0.9769\n",
      "Epoch 50/200, Loss: 0.0447, Val Accuracy: 0.9768\n",
      "Epoch 51/200, Loss: 0.0449, Val Accuracy: 0.9770\n",
      "Learning rate decayed to: 8.054639911113819e-08\n",
      "Epoch 52/200, Loss: 0.0451, Val Accuracy: 0.9769\n",
      "Epoch 53/200, Loss: 0.0447, Val Accuracy: 0.9771\n",
      "Epoch 54/200, Loss: 0.0442, Val Accuracy: 0.9770\n",
      "Epoch 55/200, Loss: 0.0446, Val Accuracy: 0.9770\n",
      "Learning rate decayed to: 8.05463991111382e-09\n",
      "Epoch 56/200, Loss: 0.0452, Val Accuracy: 0.9767\n",
      "Epoch 57/200, Loss: 0.0450, Val Accuracy: 0.9771\n",
      "Epoch 58/200, Loss: 0.0448, Val Accuracy: 0.9770\n",
      "Epoch 59/200, Loss: 0.0455, Val Accuracy: 0.9768\n",
      "Epoch 60/200, Loss: 0.0444, Val Accuracy: 0.9769\n",
      "Epoch 61/200, Loss: 0.0451, Val Accuracy: 0.9770\n",
      "Epoch 62/200, Loss: 0.0447, Val Accuracy: 0.9771\n",
      "Epoch 63/200, Loss: 0.0456, Val Accuracy: 0.9768\n",
      "Epoch 64/200, Loss: 0.0445, Val Accuracy: 0.9769\n",
      "Epoch 65/200, Loss: 0.0453, Val Accuracy: 0.9766\n",
      "Epoch 66/200, Loss: 0.0448, Val Accuracy: 0.9769\n",
      "Epoch 67/200, Loss: 0.0443, Val Accuracy: 0.9769\n",
      "Early stopping triggered\n",
      "Model saved as best_spinalvgg_model.pth\n"
     ]
    }
   ]
  },
  {
   "metadata": {},
   "cell_type": "markdown",
   "source": "Plotting Images to Check Model Convergence and Results"
  },
  {
   "cell_type": "code",
   "source": [
    "# Plot and save training loss and validation accuracy curves\n",
    "plt.figure(figsize=(12, 5))\n",
    "\n",
    "# Loss curve\n",
    "plt.subplot(1, 2, 1)\n",
    "plt.plot(train_losses, label='Training Loss')\n",
    "plt.xlabel(\"Epoch\")\n",
    "plt.ylabel(\"Loss\")\n",
    "plt.title(\"Training Loss Over Epochs\")\n",
    "plt.legend()\n",
    "\n",
    "# Validation accuracy curve\n",
    "plt.subplot(1, 2, 2)\n",
    "plt.plot(val_accuracies, label='Validation Accuracy')\n",
    "plt.xlabel(\"Epoch\")\n",
    "plt.ylabel(\"Accuracy\")\n",
    "plt.title(\"Validation Accuracy Over Epochs\")\n",
    "plt.legend()\n",
    "\n",
    "# Adjust layout to prevent overlap\n",
    "plt.tight_layout()\n",
    "plt.savefig(\"training_curves.png\")  # Save the plot as an image file\n",
    "print(\"Training curves saved as training_curves.png\")\n",
    "\n",
    "# Display the plot\n",
    "plt.show()\n"
   ],
   "metadata": {
    "colab": {
     "base_uri": "https://localhost:8080/",
     "height": 524
    },
    "id": "5ZOjkwQCGiOy",
    "outputId": "00b4d857-867b-4602-da04-31f5cda40cc7"
   },
   "execution_count": 19,
   "outputs": [
    {
     "output_type": "stream",
     "name": "stdout",
     "text": [
      "Training curves saved as training_curves.png\n"
     ]
    },
    {
     "output_type": "display_data",
     "data": {
      "text/plain": [
       "<Figure size 1200x500 with 2 Axes>"
      ],
      "image/png": "[encoded data removed]"
     },
     "metadata": {}
    }
   ]
  },
  {
   "metadata": {},
   "cell_type": "markdown",
   "source": "Using the Recommended Balanced Accuracy to Evaluate Model Performance on the Official Dataset"
  },
  {
   "cell_type": "code",
   "source": [
    "# Load the saved model\n",
    "device = torch.device(\"cuda\")\n",
    "model = SpinalVGG(num_classes=49).to(device)\n",
    "model.load_state_dict(torch.load(\"best_spinalvgg_model.pth\", weights_only=True))  # Load model weights\n",
    "model.eval()  # Switch to evaluation mode\n",
    "\n",
    "# Define a function to calculate Balanced Accuracy\n",
    "def calculate_balanced_accuracy(model, val_loader):\n",
    "    y_true = []\n",
    "    y_pred = []\n",
    "\n",
    "    # Predict the validation set in batches\n",
    "    with torch.no_grad():\n",
    "        for inputs, labels in val_loader:\n",
    "            inputs = inputs.to(device)\n",
    "            outputs = model(inputs)\n",
    "            _, predicted = torch.max(outputs, 1)\n",
    "            y_true.extend(labels.cpu().numpy())\n",
    "            y_pred.extend(predicted.cpu().numpy())\n",
    "\n",
    "    y_true = np.array(y_true)\n",
    "    y_pred = np.array(y_pred)\n",
    "\n",
    "    # Calculate accuracy for each class\n",
    "    accs = []\n",
    "    for cls in range(49):\n",
    "        mask = (y_true == cls)\n",
    "        if mask.sum() == 0:\n",
    "            accs.append(0)  # Handle classes with no samples\n",
    "        else:\n",
    "            cls_acc = (y_pred[mask] == cls).mean()  # Accuracy for this class\n",
    "            accs.append(cls_acc)\n",
    "\n",
    "    balanced_accuracy = np.mean(accs)  # Mean accuracy across classes (Balanced Accuracy)\n",
    "    return balanced_accuracy\n",
    "\n",
    "# Evaluate the model's Balanced Accuracy on the validation set\n",
    "balanced_accuracy = calculate_balanced_accuracy(model, val_loader)\n",
    "print(f\"Balanced Accuracy on validation set: {balanced_accuracy:.4f}\")\n"
   ],
   "metadata": {
    "colab": {
     "base_uri": "https://localhost:8080/"
    },
    "id": "Wzcn_j1ZDi2o",
    "outputId": "c2b4e317-9ef6-4ae8-9294-d8ecd6d6a57b"
   },
   "execution_count": 20,
   "outputs": [
    {
     "output_type": "stream",
     "name": "stdout",
     "text": [
      "Balanced Accuracy on validation set: 0.9726\n"
     ]
    }
   ]
  }
 ]
}
